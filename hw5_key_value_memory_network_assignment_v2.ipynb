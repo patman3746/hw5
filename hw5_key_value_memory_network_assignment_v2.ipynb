{
 "cells": [
  {
   "cell_type": "markdown",
   "metadata": {
    "id": "3M1CFw-VT5vI"
   },
   "source": [
    "#Preamble\n",
    "\n",
    "This mini-project involves working through all the steps of a problem, whereas prior assignments asked you to just implement core functions. We will give you a dataset, but you will also have the opportunity to manipulate the data in ways that you find beneficial to the overall project and to explain why and how those manipulations mattered. This will be in addition to building the model from scratch, developing the training loop, and implementing testing. The code will be accompanied by a report written into the notebook.\n",
    "\n",
    "This project will have you working with attention mechanism, in a new type of system for question-answering. This will provide you with experience working with attention mechanisms while not directly working with transformers.\n",
    "\n",
    "This assignment is not autograded. You can modify any code cells as long as you achieve the requirements of each graded component."
   ]
  },
  {
   "cell_type": "markdown",
   "metadata": {
    "id": "yhZzhjGaTj9P"
   },
   "source": [
    "# Introduction\n",
    "\n",
    "Memory networks learn to access external memory stores (a database or, in the case of this assignment, a dictionary). Key-Value Memory Networks specifically assume that the external memory store is organized as a dictionary with keys and values. In theory memory networks are useful when one wants a neural network to be able to know a lot of information but we don't want to try to encode that information directly into the parameters of the network. This means information can be changed in the external memory database without retraining the neural network.\n",
    "\n",
    "Given a question, e.g., \"Where was Alexander Hamilton born?\", a key-value memory network learns an embedding such that the question has a high cosine similarity to a particular key in the external dictionary. Because there are many keys that need to be matched against, key-value memory networks implement an attention-scoring mechanism to select a key. Because attention is a probabilistic score, the key-value memory network retrieves a sum of embeddings weighted according to the attention score. This weighted embedding is then compared to values using a second attention-scoring mechanism. The value with the highest cosine similarity can then be retrieved and returned as the answer.\n",
    "\n",
    "Memory networks were an important part of the evolution of question-answering systems that have been eclipsed by transformers. However, the attention mechanism in a key-value memory network is very similar to the self-attention inside a transformer, so implementing a key-value memory network is a really great way to experiment and learn about self-attention without the added complexity of transformers.\n",
    "\n",
    "Key-value memory networks are also closely related to retieval-based generation networks, except we will be retrieving facts from a dictionary instead of via the internet. However, the embedding of retrieved data will be similar.\n",
    "\n",
    "Key-value memory networks are described in this [paper](https://arxiv.org/abs/1606.03126). It is recommended that you read the paper, but we will also walk through the steps you will need to complete."
   ]
  },
  {
   "cell_type": "markdown",
   "metadata": {
    "id": "XLQP14bxNXDx"
   },
   "source": [
    "# Some imports\n",
    "\n"
   ]
  },
  {
   "cell_type": "markdown",
   "metadata": {
    "id": "FAe6-NtARNjW"
   },
   "source": [
    "You may add imports as necessary."
   ]
  },
  {
   "cell_type": "code",
   "execution_count": 277,
   "metadata": {
    "id": "JfnqkHKkITC3"
   },
   "outputs": [],
   "source": [
    "import torch\n",
    "import torch.nn as nn\n",
    "from torch import optim\n",
    "import torch.nn.functional as F\n",
    "import re\n",
    "import os\n",
    "import json\n",
    "import random\n",
    "import numpy as np\n",
    "import pickle\n",
    "from tqdm import tqdm\n",
    "import nltk\n",
    "from nltk.corpus import stopwords\n",
    "import matplotlib.pyplot as plt"
   ]
  },
  {
   "cell_type": "code",
   "execution_count": 278,
   "metadata": {
    "id": "AviW7dfn6pUi"
   },
   "outputs": [
    {
     "data": {
      "text/plain": [
       "'cuda'"
      ]
     },
     "execution_count": 278,
     "metadata": {},
     "output_type": "execute_result"
    }
   ],
   "source": [
    "device = 'cuda' if torch.cuda.is_available() else 'cpu'\n",
    "device"
   ]
  },
  {
   "cell_type": "markdown",
   "metadata": {
    "id": "fQM96JBsVHwF"
   },
   "source": [
    "Unidecode is useful for getting rid of issues that arise from unicode. This should not be used if we care about unicode, but for the purposes of an instructional exercise, it eliminates a lot of edge cases that come up with unicode."
   ]
  },
  {
   "cell_type": "code",
   "execution_count": 279,
   "metadata": {
    "id": "EYuVdhWfAcGQ"
   },
   "outputs": [
    {
     "name": "stdout",
     "output_type": "stream",
     "text": [
      "Requirement already satisfied: unidecode in ./.venv/lib/python3.13/site-packages (1.4.0)\n"
     ]
    }
   ],
   "source": [
    "!pip install unidecode"
   ]
  },
  {
   "cell_type": "code",
   "execution_count": 280,
   "metadata": {
    "id": "3E_fVmV2_8ub"
   },
   "outputs": [],
   "source": [
    "import unidecode"
   ]
  },
  {
   "cell_type": "markdown",
   "metadata": {
    "id": "p_bDmt5iSD_j"
   },
   "source": [
    "If you need to have a reduced vocabulary, you can create an unknown \"unk\" token and add it to the vocabulary. Make sure the token index in the vocabulary and `UNK_ID` match."
   ]
  },
  {
   "cell_type": "code",
   "execution_count": 281,
   "metadata": {
    "id": "DDHhoxzyAByu"
   },
   "outputs": [],
   "source": [
    "UNK = 'unk'\n",
    "UNK_ID = '0'"
   ]
  },
  {
   "cell_type": "markdown",
   "metadata": {
    "id": "Sl6J8BwVpHCw"
   },
   "source": [
    "# Some utilities"
   ]
  },
  {
   "cell_type": "markdown",
   "metadata": {
    "id": "4LVVnmlNRKTp"
   },
   "source": [
    "You may edit these as necessary."
   ]
  },
  {
   "cell_type": "markdown",
   "metadata": {
    "id": "4KF3VeFoSenc"
   },
   "source": [
    "Stem words"
   ]
  },
  {
   "cell_type": "code",
   "execution_count": 282,
   "metadata": {
    "id": "CPwG_8VrNUop"
   },
   "outputs": [],
   "source": [
    "# Stemming the text\n",
    "def simple_stemmer(text):\n",
    "    ps=nltk.porter.PorterStemmer()\n",
    "    text= [ps.stem(word) for word in text]\n",
    "    return text"
   ]
  },
  {
   "cell_type": "markdown",
   "metadata": {
    "id": "mDg9vUiDShG-"
   },
   "source": [
    "Simple tokenizer that only keeps letters and numbers."
   ]
  },
  {
   "cell_type": "code",
   "execution_count": 283,
   "metadata": {
    "id": "eEofSDrQ9fg_"
   },
   "outputs": [],
   "source": [
    "def tokenize(line):\n",
    "    line = re.sub(r'[^a-zA-Z0-9]', ' ', unidecode.unidecode(line)) # remove punctuation\n",
    "    line = line.lower().split()  # lower case\n",
    "    return line"
   ]
  },
  {
   "cell_type": "markdown",
   "metadata": {
    "id": "IH2QW9FjSrJh"
   },
   "source": [
    "A standard vocabulary object class"
   ]
  },
  {
   "cell_type": "code",
   "execution_count": 284,
   "metadata": {
    "id": "25siAXsXOJj9"
   },
   "outputs": [],
   "source": [
    "class Vocab:\n",
    "    def __init__(self, name = 'vocab'):\n",
    "        self.name = name\n",
    "        self._word2index = {}\n",
    "        self._word2count = {}\n",
    "        self._index2word = {}\n",
    "        self._n_words = 0\n",
    "\n",
    "    def get_words(self):\n",
    "      return list(self._word2count.keys())\n",
    "\n",
    "    def num_words(self):\n",
    "      return self._n_words\n",
    "\n",
    "    def word2index(self, word):\n",
    "      return self._word2index[word]\n",
    "\n",
    "    def index2word(self, word):\n",
    "      return self._index2word[word]\n",
    "\n",
    "    def word2count(self, word):\n",
    "      return self._word2count[word]\n",
    "\n",
    "    def add_sentence(self, sentence):\n",
    "        for word in tokenize(sentence):\n",
    "            self.add_word(word)\n",
    "\n",
    "    def add_word(self, word):\n",
    "        if word not in self._word2index:\n",
    "            self._word2index[word] = self._n_words\n",
    "            self._word2count[word] = 1\n",
    "            self._index2word[self._n_words] = word\n",
    "            self._n_words += 1\n",
    "        else:\n",
    "            self._word2count[word] += 1"
   ]
  },
  {
   "cell_type": "markdown",
   "metadata": {
    "id": "esAT3lG1S5cV"
   },
   "source": [
    "Make a bag of words frmo a sentence, given a vocabulary. Can return a bag of word counts or a a bag of word presences."
   ]
  },
  {
   "cell_type": "code",
   "execution_count": 285,
   "metadata": {
    "id": "oKJP2y8g-TFE"
   },
   "outputs": [],
   "source": [
    "def multihot(s, vocab, preserve_counts = False):\n",
    "  tokens = []\n",
    "  for t in tokenize(s):\n",
    "    if t in vocab._word2index:\n",
    "      tokens.append(vocab.word2index(t))\n",
    "    else:\n",
    "      # Handle unknown words by skipping them or using UNK token if available\n",
    "      if UNK in vocab._word2index:\n",
    "        tokens.append(vocab.word2index(UNK))\n",
    "      # Otherwise skip unknown words\n",
    "  \n",
    "  if not tokens:  # If no valid tokens found, return zero vector\n",
    "    return np.zeros(vocab.num_words())\n",
    "    \n",
    "  tokens = np.array(tokens)\n",
    "  mhot = np.zeros((tokens.size, vocab.num_words()))\n",
    "  mhot[np.arange(tokens.size), tokens] = 1\n",
    "  if preserve_counts:\n",
    "    return mhot.sum(0)\n",
    "  else:\n",
    "    return mhot.sum(0) >= 1"
   ]
  },
  {
   "cell_type": "markdown",
   "metadata": {
    "id": "4w8BflMUTLW_"
   },
   "source": [
    "If you have a reduced vocabulary, use this to replace out-of-vocab words. If you use this, you may want to merge it with `multihot` above to avoid tokenizing twice."
   ]
  },
  {
   "cell_type": "code",
   "execution_count": 286,
   "metadata": {
    "id": "LfvAfjEl7Z6j"
   },
   "outputs": [],
   "source": [
    "def unkit(s, vocab):\n",
    "  return ' '.join(list(map(lambda x: UNK if x not in vocab._word2index else x, tokenize(s))))"
   ]
  },
  {
   "cell_type": "markdown",
   "metadata": {
    "id": "YHZm-bAanrrf"
   },
   "source": [
    "# Part A: Download and Process Data (0 points)"
   ]
  },
  {
   "cell_type": "markdown",
   "metadata": {
    "id": "u-L61V7tVPok"
   },
   "source": [
    "This dataset contains the information in tables that are commonly used in Wikipedia biography pages. Each person has different rows of information pertaining to their notable accomplishments and details about their life. There are a large number of types of information that can appear as rows in the biography tables, however they are relatively uniform. We call the keys of the rows \"relations\".\n",
    "\n",
    "For example [Alexander Hamilton](https://en.wikipedia.org/wiki/Alexander_Hamilton) has information about the President he worked for as Secretary of State, birth date, date of death, parents' names, etc.\n",
    "\n",
    "The code below will download the dataset and process it to create two things:\n",
    "- `DB`: a hash table that map titles of biography wikipedia articles to table information. The table information is represented as a nested hash table containing relations as keys, and associated values. For example, `DB['alexander hamilton'] = {'party': 'federalist',\n",
    " 'spouse': 'elizabeth schuyler', ...}`\n",
    "- `VOCAB`: A vocabulary object that maps words to tokens and vice versa."
   ]
  },
  {
   "cell_type": "code",
   "execution_count": 287,
   "metadata": {
    "id": "PYzcdAR2ntvm"
   },
   "outputs": [],
   "source": [
    "# !git clone https://github.com/rlebret/wikipedia-biography-dataset.git"
   ]
  },
  {
   "cell_type": "code",
   "execution_count": 288,
   "metadata": {
    "id": "RZEHbtftn17L"
   },
   "outputs": [],
   "source": [
    "# !cat wikipedia-biography-dataset/wikipedia-biography-dataset.z?? > tmp.zip\n",
    "# !unzip -o tmp.zip\n",
    "# !rm tmp.zip"
   ]
  },
  {
   "cell_type": "markdown",
   "metadata": {
    "id": "1rRYqmfSTcw0"
   },
   "source": [
    "Get all the wikipedia titles."
   ]
  },
  {
   "cell_type": "code",
   "execution_count": 289,
   "metadata": {
    "id": "mdVrlCf-4TAq"
   },
   "outputs": [],
   "source": [
    "train_titles = []\n",
    "with open(\"wikipedia-biography-dataset/train/train.title\", \"r\") as file:\n",
    "  for line in file:\n",
    "    train_titles.append(line.rstrip())"
   ]
  },
  {
   "cell_type": "markdown",
   "metadata": {
    "id": "YOkCic0NTeuS"
   },
   "source": [
    "Boxes contain all the information, with each line corresponding to a title in `titles`."
   ]
  },
  {
   "cell_type": "code",
   "execution_count": 290,
   "metadata": {
    "id": "C80pu63x4o-Y"
   },
   "outputs": [],
   "source": [
    "train_boxes = []\n",
    "with open(\"wikipedia-biography-dataset/train/train.box\", \"r\") as file:\n",
    "  for line in file:\n",
    "    train_boxes.append(line.rstrip())"
   ]
  },
  {
   "cell_type": "markdown",
   "metadata": {
    "id": "63cxS1DWTk0h"
   },
   "source": [
    "This will make the DB object, a dictionary of dictionaries for each wikipedia title, which is more or less the same as names. This function only keeps politicians (containing the \"office\" key term) and strips out information about images. It can be improved in many ways."
   ]
  },
  {
   "cell_type": "code",
   "execution_count": 291,
   "metadata": {
    "id": "Pr97KJLc4v7v"
   },
   "outputs": [],
   "source": [
    "# Make a dictionary of dictionaries\n",
    "def make_db(titles, boxes):\n",
    "  db = {} # The DB\n",
    "  # Iterate through titles\n",
    "  for i in tqdm(range(len(titles))):\n",
    "    box = boxes[i] # Grab the corresponding box information\n",
    "    d  = {} # Inner dictionary\n",
    "    # Build a dict for the ith entry\n",
    "    # grab each key:value pair\n",
    "    for pair in re.findall(r'([a-zA-Z_]+)[0-9]*\\:([\\w\\d]+)', box):\n",
    "      key, value = pair\n",
    "      # Do a bit of cleaning\n",
    "      key = key.strip()\n",
    "      value = value.strip()\n",
    "      # If the key contains the word image, we probably don't want to keep it\n",
    "      if 'image' not in key:\n",
    "        # The regex maintains underscores, strip those off\n",
    "        if key[-1] == '_':\n",
    "          key = key[:-1]\n",
    "        # Make a new entry in inner dictionary if we don't have one\n",
    "        if key not in d:\n",
    "          d[key] = value\n",
    "        # Keys with compound values are split up, which is annoying, so put them back together\n",
    "        else:\n",
    "          d[key] += ' ' + value\n",
    "    # If it has an office key, keep it.\n",
    "    if 'office' in d:\n",
    "      db[titles[i]] = d\n",
    "  return db"
   ]
  },
  {
   "cell_type": "markdown",
   "metadata": {
    "id": "S9hB1o63U45e"
   },
   "source": [
    "Build the vocab from the DB. Convert the whole thing into a string, tokenize it, and feed the surviving words into the vocab."
   ]
  },
  {
   "cell_type": "code",
   "execution_count": 292,
   "metadata": {
    "id": "p13O5dcVvdZu"
   },
   "outputs": [],
   "source": [
    "def make_vocab(DB):\n",
    "  # Make the vocab object\n",
    "  vocab = Vocab()\n",
    "  # Tokenize the data by converting the entire DB into a string\n",
    "  tokens = tokenize(str(DB))\n",
    "  # Iterate through all the tokens (tqdm provides a progress bar)\n",
    "  for t in tqdm(tokens):\n",
    "    vocab.add_word(t)\n",
    "  return vocab"
   ]
  },
  {
   "cell_type": "markdown",
   "metadata": {
    "id": "Zkjf7mbAVA9H"
   },
   "source": [
    "If you want to discard rare words, this will rebuild the vocab. This is just an example."
   ]
  },
  {
   "cell_type": "code",
   "execution_count": 293,
   "metadata": {
    "id": "448Ww-BFtBL3"
   },
   "outputs": [],
   "source": [
    "def reduce_vocab(vocab, min_word_occurrence = 2):\n",
    "  # make a new vocab\n",
    "  vocab2 = Vocab(\"top\")\n",
    "  # Add the UNK token\n",
    "  vocab2.add_word(UNK)\n",
    "  # Iterate through vocabulary\n",
    "  for w in list(vocab._word2count.keys()):\n",
    "    count = vocab._word2count[w]\n",
    "    idx = vocab._word2index[w]\n",
    "    # If the word count passes threshold, add it to the new vocabulary object\n",
    "    if count >= min_word_occurrence:\n",
    "      vocab2.add_word(w)\n",
    "      vocab2._word2count[w] = count\n",
    "  # Return the new vocabulary object\n",
    "  return vocab2"
   ]
  },
  {
   "cell_type": "markdown",
   "metadata": {
    "id": "iVS602YPVE9N"
   },
   "source": [
    "Make the DB"
   ]
  },
  {
   "cell_type": "code",
   "execution_count": 294,
   "metadata": {
    "id": "cio_ZwncrGf0"
   },
   "outputs": [],
   "source": [
    "# DB = make_db(train_titles, train_boxes)"
   ]
  },
  {
   "cell_type": "markdown",
   "metadata": {
    "id": "ETLqtWtyVKLE"
   },
   "source": [
    "Make the VOCAB"
   ]
  },
  {
   "cell_type": "code",
   "execution_count": 295,
   "metadata": {
    "id": "lc7oi3p54SOb"
   },
   "outputs": [],
   "source": [
    "# VOCAB = make_vocab(DB)\n",
    "# # Add UNK token to vocabulary\n",
    "# VOCAB.add_word(UNK)\n",
    "# print(VOCAB.num_words())"
   ]
  },
  {
   "cell_type": "markdown",
   "metadata": {
    "id": "Y9AP3Dcle5VC"
   },
   "source": [
    "## Save Processed Data"
   ]
  },
  {
   "cell_type": "markdown",
   "metadata": {
    "id": "QiTQxguSXEuq"
   },
   "source": [
    "You may find it useful to save the processed dataset to your Google Drive.\n",
    "\n",
    "It is recommended that you save the file to your Google Drive. To mount your Google Drive, open the file icon on the left side of the screen to get to the option). To save the file in your Google Drive use the path `'drive/MyDrive/filename'`.)"
   ]
  },
  {
   "cell_type": "code",
   "execution_count": 296,
   "metadata": {
    "id": "6DNxueU-gpz_"
   },
   "outputs": [],
   "source": [
    "# from google.colab import drive\n",
    "# drive.mount('/content/drive')"
   ]
  },
  {
   "cell_type": "code",
   "execution_count": 297,
   "metadata": {},
   "outputs": [],
   "source": [
    "import os\n",
    "# dump in containing directory\n",
    "local_path = os.getcwd()"
   ]
  },
  {
   "cell_type": "code",
   "execution_count": 298,
   "metadata": {
    "id": "DwagcDU_Ut2Q"
   },
   "outputs": [],
   "source": [
    "# with open(os.path.join(local_path, \"data\"), \"wb\") as f:\n",
    "#   pickle.dump(DB, f, protocol=None, fix_imports=True, buffer_callback=None)"
   ]
  },
  {
   "cell_type": "code",
   "execution_count": 299,
   "metadata": {
    "id": "WS6a8EtX_h0F"
   },
   "outputs": [],
   "source": [
    "# with open(os.path.join(local_path, \"vocab\"), 'wb') as f:\n",
    "#   pickle.dump(VOCAB, f, protocol=None, fix_imports=True, buffer_callback=None)"
   ]
  },
  {
   "cell_type": "markdown",
   "metadata": {
    "id": "lzlH6IKhe_Qa"
   },
   "source": [
    "## Load processed data"
   ]
  },
  {
   "cell_type": "markdown",
   "metadata": {
    "id": "2AlkMbibXYWg"
   },
   "source": [
    "If you have saved the processed data in your Google Drive, you can re-load it with these commands."
   ]
  },
  {
   "cell_type": "code",
   "execution_count": 300,
   "metadata": {
    "id": "ZCaiBhdvCa_C"
   },
   "outputs": [],
   "source": [
    "with open(os.path.join(local_path, \"vocab\"), \"rb\") as f:\n",
    "  VOCAB = pickle.load(f)"
   ]
  },
  {
   "cell_type": "code",
   "execution_count": 301,
   "metadata": {
    "id": "IinOyL_4C1Hx"
   },
   "outputs": [],
   "source": [
    "with open(os.path.join(local_path, \"data\"), \"rb\") as f:\n",
    "  DB = pickle.load(f)"
   ]
  },
  {
   "cell_type": "markdown",
   "metadata": {
    "id": "vcZcFUxrfCnB"
   },
   "source": [
    "## Data example"
   ]
  },
  {
   "cell_type": "markdown",
   "metadata": {
    "id": "jKKoOuLCVYxd"
   },
   "source": [
    "Get to know your data."
   ]
  },
  {
   "cell_type": "code",
   "execution_count": 302,
   "metadata": {
    "id": "dbLkOyB2pp_M"
   },
   "outputs": [
    {
     "data": {
      "text/plain": [
       "{'name': 'alexander hamilton',\n",
       " 'office': '1st united states secretary of the treasury senior officer of the army delegate to the congress of the confederation from new york',\n",
       " 'president': 'george washington john adams',\n",
       " 'term_start': 'september 11 1789 december 14 1799 november 3 1788 november 4 1782',\n",
       " 'term_end': 'january 31 1795 june 15 1800 march 2 1789 june 21 1783',\n",
       " 'predecessor': 'position established george washington egbert benson seat established',\n",
       " 'successor': 'oliver wolcott jr james wilkinson seat abolished seat abolished',\n",
       " 'birth_date': '11 january 1755',\n",
       " 'birth_place': 'charlestown nevis british west indies',\n",
       " 'death_date': 'july 12 1804 aged 47 or 49',\n",
       " 'death_place': 'new york city new york u',\n",
       " 'party': 'federalist',\n",
       " 'spouse': 'elizabeth schuyler',\n",
       " 'children': 'philip angelica alexander james alexander john church william stephen eliza holly phil',\n",
       " 'alma_mater': 'kings college new york',\n",
       " 'religion': 'presbyterian episcopalian convert',\n",
       " 'signature': 'alexander hamilton signaturert',\n",
       " 'allegiance': 'flag_of_new_york _ 1778 svg 23px new york 1775 1777 united states 1795 23px 1777 1800',\n",
       " 'branch': 'flag_of_new_york _ 1778 svg 23px new york company of artillery united states 1777 23px continental army 25px united states army',\n",
       " 'serviceyears': '1775 1776 militia 1776 1781 1798 1800',\n",
       " 'rank': '23px',\n",
       " 'article_title': 'alexander hamilton'}"
      ]
     },
     "execution_count": 302,
     "metadata": {},
     "output_type": "execute_result"
    }
   ],
   "source": [
    "DB[\"alexander hamilton\"]"
   ]
  },
  {
   "cell_type": "markdown",
   "metadata": {
    "id": "ITACHJTWfE5m"
   },
   "source": [
    "# Part B: Implement the Key-Value Memory Network (10 points)"
   ]
  },
  {
   "cell_type": "markdown",
   "metadata": {
    "id": "xQqLE-fcI_43"
   },
   "source": [
    "This [paper](https://arxiv.org/abs/1606.03126) describes the key-value memory networks in detail, which is also sketched out below.\n",
    "\n",
    "A key-value memory network takes a natural language question. This question will be converted into a bag-of-words (i.e., a multihot) Call this $x$ and it is a 1D tensor of vocabulary length.\n",
    "\n",
    "![KVMemNet architecture](https://github.com/markriedl/kvmemnet-assignment/blob/32479dd1e88a9f8dfc72f11ccb8e9e0e1f78905f/kvmemnet-inside.png?raw=true)\n",
    "\n",
    "The KVMemNet will contain a linear layer (or embedding layer) that will produce a 1D embedding of the question $q=A(x)$.\n",
    "\n",
    "The KVMemNet will also take in a stack of keys as a tensor of shape `num_keys x vocab_size`. Each row is embedded using the same embedding, $k=A(keys)$, producing a tensor of shape `num_keys x embed_dim`. How this stack of keys is chosen will be discussed below.\n",
    "\n",
    "The KVMemNet will take in a third input, a stack of values associated with the stack of keys. This will also be of shape `num_values x vocab_size`. Each row is embedded using the same embedding, $v=A(values)$, producing a tensor of shape `num_keys x embed_dim`.\n",
    "\n",
    "The KVMemNet will also contain a second linear embedding layer, $B$. More on this later.\n",
    "\n",
    "Once we have `q`, `k`, and `v` embeddings, the next step is to use `q` and `k` to compute attention scores that can be applied against `v`. Think of $A$ as learning how to make questions and the keys that should match against values that have received the same treatment.\n",
    "\n",
    "The attention scores `p` are computed by taking the inner-product (`torch.inner()`) between `q` and `k`. The result will be a 1D tensor with `num_keys` length. Use softmax so that `p` contains scores between 1.0 and 0.0.\n",
    "\n",
    "You may be wondering why there isn't a non-linearity such as a sigmoid or ReLU after the linear layer. Softmax is a non-linearity.\n",
    "\n",
    "Next apply the `p` attention scores against `v` to apply a weight against each value in the stack of values. One should be highly weighted and the rest less weighted. Sum all the weighted values up to create a 1D tensor `o` of feature weights of length `embed_dim`. `p` can be thought of as how much of each value gets selected. Then they all get combined together and the feature weights are proportional to how much each value was attended to. The `torch.matmul()` can do the multiplication and summing in one step.\n",
    "\n",
    "The KVMemNet forward function should return this tensor of feature weights `o`.\n",
    "\n",
    "A quick note on `k` and `v`. We can't send the entire set of keys and values in our database through the network's forward function. Instead there should be a selection mechanism that selects just a subset of the database. This subset should contain the best key for the question $x$ to match against, and its corresponding value. We assume that a shallow selection process can narrow down the key-value pairs to a relatively small set, one of which will be best. For example, if the question involves \"Alexander Hamilton\", we can reasonably guess that the best key-value pair is in the part of the database associated with the named person.\n",
    "\n",
    "We are not done though. What about our linear layer $B$? Suppose variable `Y` contains our entire set of values in our databse as bags of words. $B$ is going to be used to embed our entire set of database values $y=B(Y)$. $B$ can be thought of as learning how to make all the values look like the feature weights output by the model such that the highest cosine similarity corresponds to the correct value taken from *all* values in the database.\n",
    "\n",
    "$B$ should live inside the KVMemNet object so that its parameters become trainable, but notice that we do not use $B$ in the KVMemNet's forward function. $B$ will get used to prepare the stack of all values in the database for training. It will bet used in the training loop but outside of the forward function. This is a bit unusual, but necessary to figure out the correct target (the true index of the best value to match against) for training.\n",
    "\n",
    "The above explantion only implements *single-hop* retrieval. *multi-hop* retrieval allows the results of one retrieval to inform a second (and third and so on) to get the right retrieval. This would be used in the case where the answer cannot be inferred directly from the question in a single retrieval, such as \"What was the founding date of the country that Alexander Hamilton was born in?\". To implement multi-hop retrieval, the KVMemNet will have additional linear layers $R_1...R_n$. Each $R_{i}$ will do a linear transform on `q` then attention will score and retrieve values as feature weights `o`. This will be sent to the next $R_{i+1}$ and so on until the hops are complete. This final `o` will be returned.\n",
    "\n",
    "For this assignment is is sufficient to only do *single-hop* retrieval.\n",
    "\n",
    "The above explanation does not include consideration of batching. You may want to add a batch dimension as the first dimension and input a batch as a set of questions, a set of stacks of keys, and a set of stacks of values. To do this, functions like `.inner()`, `.mm()`, and`.matmul()` will not work. Instead use `.bmm()` which handles batching correctly. You will probably need to do some `.squeeze()` and `.unsqueeze()` operations to make sure your tensors are the correct shapes.\n",
    "\n",
    "Instead of bag-of-words, one may also consider first converting each question, key, and value into a general set of embeddings such as [GLoVe](https://nlp.stanford.edu/projects/glove/). To do this one will need to consider how to combine words--convert each word into an embedding vector and then add the vectors together (or maybe average them)."
   ]
  },
  {
   "cell_type": "markdown",
   "metadata": {
    "id": "DSf1SSX7bgdE"
   },
   "source": [
    "**Complete the key-value memory net code**"
   ]
  },
  {
   "cell_type": "code",
   "execution_count": 303,
   "metadata": {
    "id": "9zex3XZzw0-l"
   },
   "outputs": [],
   "source": [
    "class KVMemNet(nn.Module):\n",
    "    def __init__(self, vocab_size, embed_dim):\n",
    "        super(KVMemNet, self).__init__()\n",
    "        self.vocab_size = vocab_size\n",
    "        self.embed_dim = embed_dim\n",
    "        ### YOUR CODE HERE\n",
    "        self.A = nn.Linear(vocab_size, embed_dim)\n",
    "        self.B = nn.Linear(vocab_size, embed_dim)\n",
    "\n",
    "    def forward(self, x, keys, values):\n",
    "        # pseudocode from OH:\n",
    "        # questions = A(x)\n",
    "        # keys = A(keys) \n",
    "        # values = A(values)\n",
    "        \n",
    "        # prob = questions * keys\n",
    "        # prob = softmax(prob)\n",
    "        # output = prob * values\n",
    "        \n",
    "        # Handle both single samples and batches\n",
    "        if x.dim() == 1:\n",
    "            x = x.unsqueeze(0)\n",
    "            keys = keys.unsqueeze(0) \n",
    "            values = values.unsqueeze(0)\n",
    "            single_sample = True\n",
    "        else:\n",
    "            single_sample = False\n",
    "\n",
    "        # Embed using layer A\n",
    "        questions = self.A(x)  # [batch, embed_dim]\n",
    "        keys_embed = self.A(keys)  # [batch, num_keys, embed_dim]\n",
    "        values_embed = self.A(values)  # [batch, num_keys, embed_dim]\n",
    "        \n",
    "        # Compute attention scores\n",
    "        # [batch, num_keys, embed_dim] x [batch, embed_dim, 1] = [batch, num_keys, 1]\n",
    "        prob = torch.bmm(keys_embed, questions.unsqueeze(2))  \n",
    "        prob = prob.squeeze(2)  # [batch, num_keys]\n",
    "        \n",
    "        # Apply softmax\n",
    "        prob = F.softmax(prob, dim=1)  # [batch, num_keys]\n",
    "        \n",
    "        # Weight values by attention and sum\n",
    "        # [batch, 1, num_keys] x [batch, num_keys, embed_dim] = [batch, 1, embed_dim]\n",
    "        output = torch.bmm(prob.unsqueeze(1), values_embed)\n",
    "        output = output.squeeze(1)  # [batch, embed_dim]\n",
    "        \n",
    "        if single_sample:\n",
    "            output = output.squeeze(0)\n",
    "            \n",
    "        return output"
   ]
  },
  {
   "cell_type": "markdown",
   "metadata": {
    "id": "p8pshjz9hRps"
   },
   "source": [
    "\n",
    "# Synthetic Data Set\n",
    "\n",
    "This is a synthetic dataset. One way to test a model during development is to take a small piece of data and show that you can overfit a model. If you can't overfit an easily learned chunk of data, then you probably have something wrong in your code. In this case I have provided a small chunk of synthetic data that should be easy to learn.\n",
    "\n",
    "- The vocabulary is 20 word: 5 names, 5 relations, 5 question-words, 5 values\n",
    " - First 5 elements of the vocab are names (for example index 0 might be \"Hamilton\").\n",
    " - Second 5 elements of the vocab are relations (for example, \"born\", \"died\", \"occupation\").\n",
    " - Third 5 elements are random words that might be part of a query (for example, \"When was\").\n",
    " - Final 5 elements of the vocab are possible values (for example, \"1757\")\n",
    "- A \"question\" is a name (5, 1), relation (5, 1), some words (5, 1), and no values\n",
    "- The keys will all have the same name (5, 5) where each row is idential, relations (5, 5), no words, no values\n",
    "- Values will have no names, no relations, no words, and value vocab words"
   ]
  },
  {
   "cell_type": "code",
   "execution_count": 304,
   "metadata": {
    "id": "Qvuyp-g7grYw"
   },
   "outputs": [],
   "source": [
    "# Turn on a different relation on each row\n",
    "relations = torch.zeros(5, 5)\n",
    "relations.fill_diagonal_(1)\n",
    "\n",
    "# training data\n",
    "train_data = {}\n",
    "for i in range(5):\n",
    "  # Name associated with questions, keys, values\n",
    "  train_data[i] = (torch.cat([F.one_hot(torch.arange(0, 5))[i].repeat(5, 1),\n",
    "                         relations,\n",
    "                         torch.randint(0, 2, (5, 5)).float(),\n",
    "                         torch.zeros(5, 5)], dim=1),\n",
    "              torch.cat([F.one_hot(torch.arange(0, 5))[i].repeat(5, 1),\n",
    "                         relations,\n",
    "                         torch.zeros(5, 5),\n",
    "                         torch.zeros(5, 5)], dim=1),\n",
    "              torch.cat([torch.zeros(5, 5),\n",
    "                         torch.zeros(5, 5),\n",
    "                         torch.zeros(5, 5),\n",
    "                         torch.randint(0, 2, (5, 5)).float()], dim=1))\n",
    "  Y = torch.cat([v[2] for v in list(train_data.values())], dim=0).to('cuda')"
   ]
  },
  {
   "cell_type": "markdown",
   "metadata": {
    "id": "G6R_xIi_TZVp"
   },
   "source": [
    "# Part C: Train on Synthetic Data (5 points)"
   ]
  },
  {
   "cell_type": "markdown",
   "metadata": {},
   "source": []
  },
  {
   "cell_type": "markdown",
   "metadata": {
    "id": "4slHUG5cPDtT"
   },
   "source": [
    "The following describes the steps to set up a training loop, including the training of the $B$ layer.\n",
    "\n",
    "![The KVMemNet being used in the training loop](https://github.com/markriedl/kvmemnet-assignment/blob/main/kvmemnet-outside.png?raw=true)\n",
    "\n",
    "- Create a model with the given vocabulary size and an embedding size that is equal to or smaller.\n",
    "- Loop through `N` epochs:\n",
    " - There are five names, loop through each name.\n",
    "   - Get a stack of questions, stack of keys, and stack of values from `DB_synth`.\n",
    "   - Loop through the relations. There is relation on each row of the keys and values.\n",
    "     - Get a single question, the `i`-th row in the questions pulled from `DB_synth` above.\n",
    "     - Compute the target: this is the `name*5 + i` element in `Y`.\n",
    "     - Run the singular question, stack of keys, and stack of values through the model and produce an output, which is a tensor of feature weights.\n",
    "     - Run all of `Y` through `model.B()` to get an embedded stack of values.\n",
    "     - Take the softmax of the inner product between the embedded stack of values from `Y` and the feature weight generated by the model.\n",
    "     - Compute the loss with `nn.CrossEntropyLoss`.\n",
    "     - Call `.backward()` on the loss.\n",
    "\n",
    "In addition to printing the loss (after every question or after every name in `DB_synth`) you can also print the target and the argmax of the softmax result to see if they match. Over time you should see the target and the argmax in agreement. For the purposes of this part of the project it is sufficient to test on the training set.\n",
    "\n",
    "Don't forget to move the model and the tensor to the GPU.\n",
    "\n",
    "You may want to speed up training by implementing batching. To do this, the model `forward()` needs to take tensors with an extra batching dimension as the first dimension. However, `.inner()`, `.mm()`, and `.matmul()` will not work properly. You will need to use `.bmm()` instead, which understands the first dimension is for batching. You will likely find that you need to perform some `.squeeze()` and `.unsqueeze()` operations. You can try batch-size of one, or take entire chunks (or even all synthetic data as a single, large batch). Try it different ways.\n",
    "\n",
    "Try training on the synthetic data first."
   ]
  },
  {
   "cell_type": "markdown",
   "metadata": {
    "id": "zu1CMkabZkyU"
   },
   "source": [
    "You may make as many cells as necessary. Save your notebook outputs that plot loss and show it reducing."
   ]
  },
  {
   "cell_type": "markdown",
   "metadata": {
    "id": "0MqIdFVAbqr1"
   },
   "source": [
    "**Write code blocks below that create the `KVMemNet`**"
   ]
  },
  {
   "cell_type": "code",
   "execution_count": 305,
   "metadata": {
    "id": "wxso4hXaTKSK"
   },
   "outputs": [],
   "source": [
    "# Pseudo from OH\n",
    "\"\"\"\n",
    "vocab_size = 20\n",
    "embed_size = 16\n",
    "model = KVMemNet(vocab_size, embed_size)\n",
    "model.to(device)\n",
    "optimizer = optim.Adam(model.parameters(), lr=0.001)\n",
    "criterion = nn.CrossEntropyLoss()\n",
    "\"\"\"\n",
    "\n",
    "vocab_size = 20\n",
    "embed_dim = 16\n",
    "learning_rate = 0.001\n",
    "num_epochs = 100  # Increased for better convergence\n",
    "\n",
    "model = KVMemNet(vocab_size, embed_dim).to(device)\n",
    "optimizer = optim.Adam(model.parameters(), lr=learning_rate)\n",
    "criterion = nn.CrossEntropyLoss()"
   ]
  },
  {
   "cell_type": "markdown",
   "metadata": {
    "id": "001D35pTb82K"
   },
   "source": [
    "**Write and run a training testing loop. Show that your training loop loss converges with a plot**\n",
    "\n",
    "To plot a loss curve, compute the mean loss per epoch and save it in a list:\n",
    "```\n",
    "x_axis.append(epoch_number)\n",
    "y_axis.append(mean_epoch_loss_for_this_epoch)\n",
    "plt.plot(x_axis, y_axis)\n",
    "plt.show()\n",
    "```"
   ]
  },
  {
   "cell_type": "code",
   "execution_count": 306,
   "metadata": {
    "id": "InBysHJfTTYX"
   },
   "outputs": [
    {
     "name": "stdout",
     "output_type": "stream",
     "text": [
      "Epoch 0, prediction: 24, target: 0, loss: 3.2173\n",
      "Epoch [0/100] - Avg Loss: 3.2357, Accuracy: 0.0%\n",
      "--------------------------------------------------\n",
      "Epoch 20, prediction: 0, target: 0, loss: 3.1146\n",
      "Epoch [20/100] - Avg Loss: 2.9019, Accuracy: 16.0%\n",
      "--------------------------------------------------\n",
      "Epoch 40, prediction: 0, target: 0, loss: 2.4971\n",
      "Epoch [40/100] - Avg Loss: 2.0027, Accuracy: 40.0%\n",
      "--------------------------------------------------\n",
      "Epoch 60, prediction: 0, target: 0, loss: 1.2735\n",
      "Epoch [60/100] - Avg Loss: 1.2118, Accuracy: 60.0%\n",
      "--------------------------------------------------\n",
      "Epoch 80, prediction: 0, target: 0, loss: 0.5922\n",
      "Epoch [80/100] - Avg Loss: 0.8094, Accuracy: 72.0%\n",
      "--------------------------------------------------\n"
     ]
    },
    {
     "data": {
      "image/png": "[encoded data removed]",
      "text/plain": [
       "<Figure size 1200x400 with 2 Axes>"
      ]
     },
     "metadata": {},
     "output_type": "display_data"
    },
    {
     "name": "stdout",
     "output_type": "stream",
     "text": [
      "Final average loss: 0.6296\n",
      "Final accuracy: 72.0%\n"
     ]
    }
   ],
   "source": [
    "# Write your training loop here\n",
    "Y_tensor = Y.to(device)\n",
    "\n",
    "# Initialize loss tracking lists for plotting\n",
    "losses = []  # Loss per batch/sample\n",
    "epoch_losses = []  # Average loss per epoch\n",
    "\n",
    "# Pseudo from OH\n",
    "\"\"\"\n",
    "for epoch in range(500):\n",
    "    for name_index in range(5):\n",
    "        qs, keys, values = train_data[name_index]\n",
    "        keys = keys.to(device)\n",
    "        values = values.to(device)\n",
    "        \n",
    "        for relation_index in range(5):\n",
    "            q = qs[relation_index].to(device)\n",
    "            output = model(q, keys, values)\n",
    "            y = model.B(Y)\n",
    "            \n",
    "            soft = softmax(inner(y, output))\n",
    "            target_index = name_index * 5 + relation_index\n",
    "            \n",
    "            soft.unsqueeze if necessary\n",
    "            loss = criterion(soft, target)\n",
    "            optimizer.zero_grad()\n",
    "            loss.backward()\n",
    "            optimizer.step()\n",
    "            \n",
    "            print('prediction', soft.argmax(), 'target', target_index, 'loss', loss.item())\n",
    "\"\"\"\n",
    "\n",
    "# Training loop based on OH pseudocode\n",
    "for epoch in range(num_epochs):\n",
    "    epoch_loss = 0.0\n",
    "    correct = 0\n",
    "    total = 0\n",
    "    \n",
    "    # Loop through 5 names\n",
    "    for name_index in range(5):\n",
    "        # Get questions, keys, values for this person\n",
    "        qs, keys, values = train_data[name_index]\n",
    "        \n",
    "        # Move to device\n",
    "        qs = qs.to(device)\n",
    "        keys = keys.to(device)\n",
    "        values = values.to(device)\n",
    "        \n",
    "        # Process each relation/question for this person\n",
    "        for relation_index in range(5):\n",
    "            # Get single question\n",
    "            q = qs[relation_index]  # Shape: [20]\n",
    "            \n",
    "            # Forward pass through model\n",
    "            output = model(q, keys, values)  # Shape: [embed_dim]\n",
    "            \n",
    "            # Embed all Y values using layer B\n",
    "            y = model.B(Y_tensor)  # Shape: [25, embed_dim]\n",
    "            \n",
    "            # Compute inner product and softmax\n",
    "            scores = torch.inner(y, output)  # Shape: [25]\n",
    "            \n",
    "            # Target index for this name-relation combination\n",
    "            target_index = name_index * 5 + relation_index\n",
    "            target = torch.tensor([target_index], dtype=torch.long, device=device)\n",
    "            \n",
    "            # Add batch dimension for CrossEntropyLoss\n",
    "            scores = scores.unsqueeze(0)  # Shape: [1, 25]\n",
    "            \n",
    "            # Compute loss\n",
    "            loss = criterion(scores, target)\n",
    "            \n",
    "            # Backpropagation\n",
    "            optimizer.zero_grad()\n",
    "            loss.backward()\n",
    "            optimizer.step()\n",
    "            \n",
    "            # Track metrics\n",
    "            prediction = scores.argmax(dim=1).item()\n",
    "            correct += (prediction == target_index)\n",
    "            total += 1\n",
    "            \n",
    "            loss_value = loss.item()\n",
    "            losses.append(loss_value)\n",
    "            epoch_loss += loss_value\n",
    "            \n",
    "            # Print progress occasionally\n",
    "            if epoch % 20 == 0 and name_index == 0 and relation_index == 0:\n",
    "                print(f'Epoch {epoch}, prediction: {prediction}, target: {target_index}, loss: {loss_value:.4f}')\n",
    "    \n",
    "    # Track epoch average\n",
    "    avg_loss = epoch_loss / 25\n",
    "    epoch_losses.append(avg_loss)\n",
    "    \n",
    "    # Print epoch summary\n",
    "    if epoch % 20 == 0:\n",
    "        accuracy = 100.0 * correct / total\n",
    "        print(f\"Epoch [{epoch}/{num_epochs}] - Avg Loss: {avg_loss:.4f}, Accuracy: {accuracy:.1f}%\")\n",
    "        print(\"-\" * 50)\n",
    "\n",
    "# Plot results\n",
    "plt.figure(figsize=(12, 4))\n",
    "\n",
    "plt.subplot(1, 2, 1)\n",
    "plt.plot(losses[-500:])  # Show last 500 samples\n",
    "plt.title('Training Loss (Last 500 Samples)')\n",
    "plt.xlabel('Sample')\n",
    "plt.ylabel('Loss')\n",
    "\n",
    "plt.subplot(1, 2, 2)\n",
    "plt.plot(epoch_losses)\n",
    "plt.title('Average Loss per Epoch')\n",
    "plt.xlabel('Epoch')\n",
    "plt.ylabel('Average Loss')\n",
    "\n",
    "plt.tight_layout()\n",
    "plt.show()\n",
    "\n",
    "print(f\"Final average loss: {epoch_losses[-1]:.4f}\")\n",
    "print(f\"Final accuracy: {100.0 * correct / total:.1f}%\")"
   ]
  },
  {
   "cell_type": "markdown",
   "metadata": {
    "id": "nupd-Gr9P6vc"
   },
   "source": [
    "# Part D: Training on the Full Data (10 points)"
   ]
  },
  {
   "cell_type": "markdown",
   "metadata": {
    "id": "r02Y9yvhPXy8"
   },
   "source": [
    "To train on the full data, you are going to need to do some pre-processing of the data.\n",
    "\n",
    "First, there are no \"questions\". You need to generate questions for each type of relation. There a number of ways to do this. The simplest is to just assume that a question is the name of a person and a relation, e.g., \"Alexander Hamilton birth date\". Another way would be to create templates for each type of relation. For example the \"birth date\" relation would have the following template: \"When was [name] born?\", filling in the [name]. Because there are a lot of different types of relations, you may want to remove the more obscure relations so you need fewer templates and also have a smaller vocabulary. Templates work well if the questions are expected to be almost identical to the templates. You may want to generate multiple templates per relation. Continuing the previous example, a second template would be: \"What is the birthdate of [name]?\".\n",
    "\n",
    "If you are feeling more ambitious, you could use GPT-J, GPT-NeoX, GPT-3 or ChatGPT to generate templates. It works decently well and you can get some variety of templates.\n",
    "\n",
    "The question should contain information about the person and some words that are representative of the relation even if the exact relation words aren't used (the KVMemNet should figure out that \"birthdate\" and \"born\" are correlated).\n",
    "\n",
    "You only put a subset of all key-value pairs into the KVMemNet. You need a technique for sub-selecting from all the key-value pairs in `DB`. You might just need the ones that are directly associated with the person (Alexander Hamilton has 23). You may need to mix in a few key-value pairs from another person's entries in the database to help ensure against accidental overfitting.\n",
    "\n",
    "The final challenge you will have in the training loop is that there may still be too many unique values in `Y` to encode and create one big tensor. In that case, you can at least use the values that you sent to the KVMemNet, along with as many other randomly selected values as you can fit into the GPU's memory."
   ]
  },
  {
   "cell_type": "markdown",
   "metadata": {
    "id": "3I3CTqeEfa1m"
   },
   "source": [
    "Create as many cells below as you need. Save the output of your training and testing functions, reporting loss during training and accuracy during testing. 5 points for a training loop that reduces loss. 5 points for a training function with a correct accuracy computation."
   ]
  },
  {
   "cell_type": "markdown",
   "metadata": {
    "id": "D-970kRwZ26n"
   },
   "source": [
    "**Create a training dataset and a non-overlapping testing dataset**\n",
    "\n",
    "If CPU memory becomes a problem you might want to consider a `DataLoader` so that data can be stored on file and pulled up when needed."
   ]
  },
  {
   "cell_type": "code",
   "execution_count": 307,
   "metadata": {
    "id": "V6VEnB_VS7Px"
   },
   "outputs": [
    {
     "name": "stdout",
     "output_type": "stream",
     "text": [
      "Analyzing data quality...\n",
      "\n",
      "Top 20 most common relations:\n",
      "  office: 40786\n",
      "  article_title: 40786\n",
      "  name: 38625\n",
      "  term_start: 37144\n",
      "  birth_date: 35272\n",
      "  birth_place: 32183\n",
      "  term_end: 31147\n",
      "  predecessor: 29611\n",
      "  party: 28363\n",
      "  successor: 26128\n",
      "  alma_mater: 16303\n",
      "  death_date: 15339\n",
      "  spouse: 15104\n",
      "  death_place: 12582\n",
      "  nationality: 10791\n",
      "  religion: 10541\n",
      "  children: 8664\n",
      "  occupation: 8247\n",
      "  profession: 8045\n",
      "  residence: 7344\n",
      "\n",
      "Relations appearing in at least 1000 people: 50\n",
      "Common relations: ['name', 'birth_date', 'birth_place', 'death_date', 'death_place', 'office', 'term_start', 'term_end', 'predecessor', 'successor', 'party', 'spouse', 'article_title', 'state', 'district']...\n",
      "\n",
      "Reducing vocabulary (min word count: 5)...\n",
      "Original vocab size: 96094\n",
      "Reduced vocab size: 29390\n",
      "\n",
      "Creating filtered dataset...\n",
      "Total filtered samples: 521242 (from 542979 original)\n",
      "People with at least 5 relations: 40537\n",
      "\n",
      "Using ALL available data:\n",
      "Train persons: 32429 (80% of data)\n",
      "Test persons: 8108 (20% of data)\n",
      "\n",
      "Creating Y matrix from filtered data...\n",
      "Unique values in filtered dataset: 10000\n"
     ]
    },
    {
     "name": "stderr",
     "output_type": "stream",
     "text": [
      "Building Y matrix: 100%|██████████| 10000/10000 [00:01<00:00, 8527.16it/s]\n"
     ]
    },
    {
     "name": "stdout",
     "output_type": "stream",
     "text": [
      "Y matrix shape: torch.Size([10000, 29390])\n",
      "\n",
      "Sample from filtered training data:\n",
      "Person: laura duncan\n",
      "Number of relations: 7\n",
      "  0: key='laura duncan name', value='sheriff laura duncan'\n",
      "  1: key='laura duncan office', value='sheriff of glasgow and strathkelvin'\n",
      "  2: key='laura duncan term_start', value='1982'\n",
      "  3: key='laura duncan term_end', value='2006'\n",
      "  4: key='laura duncan alma_mater', value='university of glasgow'\n",
      "\n",
      "Dataset creation complete!\n",
      "Using vocabulary: REDUCED\n",
      "Filtered to 50 common relations\n",
      "Train dataset: 32429 persons with 416060 total samples\n",
      "Test dataset: 8108 persons with 104314 total samples\n"
     ]
    }
   ],
   "source": [
    "# Create your training and test sets here with improved data quality\n",
    "# pseudo from OH\n",
    "\"\"\"\n",
    "d = []\n",
    "for name, content in DB.items():\n",
    "    person = []\n",
    "    \n",
    "    for key, value in content.items():\n",
    "        tmp = [name, \"{} {}\".format(name, key), \"{} {}\".format(name, value)]\n",
    "        # \"{} {}\".format(name, key): question and key\n",
    "        # \"{} {}\".format(name, value): value\n",
    "        d.append(tmp)\n",
    "        \n",
    "train_data = d[:500]\n",
    "test_data = d[500:600]\n",
    "\"\"\"\n",
    "# First, let's analyze the data quality\n",
    "print(\"Analyzing data quality...\")\n",
    "\n",
    "# Count relation frequencies\n",
    "relation_counts = {}\n",
    "for name, content in DB.items():\n",
    "    for key in content.keys():\n",
    "        relation_counts[key] = relation_counts.get(key, 0) + 1\n",
    "\n",
    "# Sort relations by frequency\n",
    "sorted_relations = sorted(relation_counts.items(), key=lambda x: x[1], reverse=True)\n",
    "print(f\"\\nTop 20 most common relations:\")\n",
    "for rel, count in sorted_relations[:20]:\n",
    "    print(f\"  {rel}: {count}\")\n",
    "\n",
    "# Filter to only use common relations (appear in at least 1000 people)\n",
    "MIN_RELATION_COUNT = 1000\n",
    "common_relations = [rel for rel, count in relation_counts.items() if count >= MIN_RELATION_COUNT]\n",
    "print(f\"\\nRelations appearing in at least {MIN_RELATION_COUNT} people: {len(common_relations)}\")\n",
    "print(f\"Common relations: {common_relations[:15]}...\")  # Show first 15\n",
    "\n",
    "# Option to use reduced vocabulary\n",
    "USE_REDUCED_VOCAB = True\n",
    "MIN_WORD_COUNT = 5  # Words must appear at least this many times\n",
    "\n",
    "if USE_REDUCED_VOCAB:\n",
    "    print(f\"\\nReducing vocabulary (min word count: {MIN_WORD_COUNT})...\")\n",
    "    VOCAB_REDUCED = reduce_vocab(VOCAB, min_word_occurrence=MIN_WORD_COUNT)\n",
    "    print(f\"Original vocab size: {VOCAB.num_words()}\")\n",
    "    print(f\"Reduced vocab size: {VOCAB_REDUCED.num_words()}\")\n",
    "    \n",
    "    # Use reduced vocab\n",
    "    vocab_to_use = VOCAB_REDUCED\n",
    "else:\n",
    "    vocab_to_use = VOCAB\n",
    "\n",
    "# Create dataset following OH pattern but with filtered data\n",
    "print(\"\\nCreating filtered dataset...\")\n",
    "\n",
    "# Create dataset with only common relations\n",
    "d_filtered = []\n",
    "for name, content in DB.items():\n",
    "    person_has_data = False\n",
    "    for key, value in content.items():\n",
    "        if key in common_relations:  # Only use common relations\n",
    "            # Create tuple: [name, \"name key\", value]\n",
    "            tmp = [name, f\"{name} {key}\", value]\n",
    "            d_filtered.append(tmp)\n",
    "            person_has_data = True\n",
    "    \n",
    "print(f\"Total filtered samples: {len(d_filtered)} (from {len(d)} original)\")\n",
    "\n",
    "# Group by person\n",
    "persons_data_filtered = {}\n",
    "for item in d_filtered:\n",
    "    name = item[0]\n",
    "    if name not in persons_data_filtered:\n",
    "        persons_data_filtered[name] = []\n",
    "    persons_data_filtered[name].append(item)\n",
    "\n",
    "# Remove people with too few relations\n",
    "MIN_RELATIONS_PER_PERSON = 5\n",
    "persons_with_enough_data = {name: data for name, data in persons_data_filtered.items() \n",
    "                           if len(data) >= MIN_RELATIONS_PER_PERSON}\n",
    "print(f\"People with at least {MIN_RELATIONS_PER_PERSON} relations: {len(persons_with_enough_data)}\")\n",
    "\n",
    "# Get list of person names and shuffle\n",
    "all_persons = list(persons_with_enough_data.keys())\n",
    "random.seed(42)\n",
    "random.shuffle(all_persons)\n",
    "\n",
    "# UPDATED: Use all available data instead of limiting\n",
    "# Use 80/20 split of all available data\n",
    "split_ratio = 0.8\n",
    "split_index = int(len(all_persons) * split_ratio)\n",
    "\n",
    "train_persons = all_persons[:split_index]\n",
    "test_persons = all_persons[split_index:]\n",
    "\n",
    "print(f\"\\nUsing ALL available data:\")\n",
    "print(f\"Train persons: {len(train_persons)} ({split_ratio*100:.0f}% of data)\")\n",
    "print(f\"Test persons: {len(test_persons)} ({(1-split_ratio)*100:.0f}% of data)\")\n",
    "\n",
    "# Create train and test data\n",
    "train_data = []\n",
    "for person in train_persons:\n",
    "    train_data.append(persons_with_enough_data[person])\n",
    "\n",
    "test_data = []\n",
    "for person in test_persons:\n",
    "    test_data.append(persons_with_enough_data[person])\n",
    "\n",
    "# Create Y matrix with filtered data\n",
    "print(\"\\nCreating Y matrix from filtered data...\")\n",
    "value_list = []\n",
    "value_to_idx = {}\n",
    "\n",
    "# Only use values from filtered dataset\n",
    "for person_data in train_data + test_data:\n",
    "    for item in person_data:\n",
    "        value = item[2]\n",
    "        if value not in value_to_idx and len(value_list) < 10000:  # Increased Y matrix size\n",
    "            value_to_idx[value] = len(value_list)\n",
    "            value_list.append(value)\n",
    "\n",
    "print(f\"Unique values in filtered dataset: {len(value_list)}\")\n",
    "\n",
    "# Convert values to multihot tensors using appropriate vocab\n",
    "Y_list = []\n",
    "for value in tqdm(value_list[:10000], desc=\"Building Y matrix\"):  # Increased to 10k\n",
    "    Y_list.append(torch.tensor(multihot(value, vocab_to_use), dtype=torch.float32))\n",
    "\n",
    "Y_matrix = torch.stack(Y_list)\n",
    "print(f\"Y matrix shape: {Y_matrix.shape}\")\n",
    "\n",
    "# Show sample data quality\n",
    "print(\"\\nSample from filtered training data:\")\n",
    "if train_data:\n",
    "    sample_person = train_data[0]\n",
    "    print(f\"Person: {sample_person[0][0]}\")\n",
    "    print(f\"Number of relations: {len(sample_person)}\")\n",
    "    for i, item in enumerate(sample_person[:5]):\n",
    "        print(f\"  {i}: key='{item[1]}', value='{item[2]}'\")\n",
    "\n",
    "print(f\"\\nDataset creation complete!\")\n",
    "print(f\"Using vocabulary: {'REDUCED' if USE_REDUCED_VOCAB else 'ORIGINAL'}\")\n",
    "print(f\"Filtered to {len(common_relations)} common relations\")\n",
    "print(f\"Train dataset: {len(train_data)} persons with {sum(len(p) for p in train_data)} total samples\")\n",
    "print(f\"Test dataset: {len(test_data)} persons with {sum(len(p) for p in test_data)} total samples\")"
   ]
  },
  {
   "cell_type": "markdown",
   "metadata": {
    "id": "MI3b5x2zfl8g"
   },
   "source": [
    "**Create your `KVMemNet`**"
   ]
  },
  {
   "cell_type": "code",
   "execution_count": 308,
   "metadata": {
    "id": "OEKJ1KJxTBUJ"
   },
   "outputs": [
    {
     "name": "stdout",
     "output_type": "stream",
     "text": [
      "Using reduced vocabulary\n",
      "Real data model created with vocab_size=29390, embed_dim=128\n",
      "Model moved to device: cuda\n",
      "Optimizer: Adam with lr=0.001\n",
      "Loss function: CrossEntropyLoss\n"
     ]
    }
   ],
   "source": [
    "# Set up your KVMemNet here\n",
    "# Pseudo from OH\n",
    "\"\"\"\n",
    "model = KVMemNet(vocab_size, embed_dim)\n",
    "model.to(device)\n",
    "optimizer = optim.Adam(model.parameters(), lr=learning_rate)\n",
    "criterion = nn.CrossEntropyLoss()\n",
    "\"\"\"\n",
    "\n",
    "# Use the appropriate vocabulary size based on whether we're using reduced vocab\n",
    "if 'vocab_to_use' in locals():\n",
    "    vocab_size = vocab_to_use.num_words()\n",
    "    print(f\"Using {'reduced' if USE_REDUCED_VOCAB else 'original'} vocabulary\")\n",
    "else:\n",
    "    vocab_size = VOCAB.num_words()\n",
    "    vocab_to_use = VOCAB\n",
    "\n",
    "embed_dim = 128  # Embedding dimension\n",
    "learning_rate = 0.001\n",
    "\n",
    "# Create model and move to GPU\n",
    "real_model = KVMemNet(vocab_size, embed_dim).to(device)\n",
    "\n",
    "# Setup optimizer and loss criterion\n",
    "real_optimizer = optim.Adam(real_model.parameters(), lr=learning_rate)\n",
    "real_criterion = nn.CrossEntropyLoss()\n",
    "\n",
    "print(f\"Real data model created with vocab_size={vocab_size}, embed_dim={embed_dim}\")\n",
    "print(f\"Model moved to device: {device}\")\n",
    "print(f\"Optimizer: Adam with lr={learning_rate}\")\n",
    "print(f\"Loss function: CrossEntropyLoss\")"
   ]
  },
  {
   "cell_type": "markdown",
   "metadata": {
    "id": "9Ug_8X-2fwYD"
   },
   "source": [
    "**Write and run a training loop, showing a loss plot**\n",
    "\n",
    "You may find it handy to also test your network on the test data periodically as it trains."
   ]
  },
  {
   "cell_type": "code",
   "execution_count": 309,
   "metadata": {},
   "outputs": [],
   "source": [
    "def save_model(model, filename):\n",
    "    \"\"\"Save the model state dictionary to a file.\"\"\"\n",
    "    torch.save(model.state_dict(), filename)\n",
    "    print(f\"Model saved to {filename}\")\n",
    "\n",
    "def save_checkpoint(model, optimizer, epoch, filename):\n",
    "    \"\"\"Save the model and optimizer state to a checkpoint file.\"\"\"\n",
    "    checkpoint = {\n",
    "        'model_state_dict': model.state_dict(),\n",
    "        'optimizer_state_dict': optimizer.state_dict(),\n",
    "        'epoch': epoch\n",
    "    }\n",
    "    torch.save(checkpoint, filename)\n",
    "    print(f\"Checkpoint saved to {filename}\")"
   ]
  },
  {
   "cell_type": "code",
   "execution_count": 310,
   "metadata": {
    "id": "-K6rxBHFTEPO"
   },
   "outputs": [
    {
     "name": "stdout",
     "output_type": "stream",
     "text": [
      "Training and testing the model with ALL available data...\n",
      "Using vocabulary with 29390 words for encoding\n",
      "\n",
      "=== Epoch 1/5 ===\n",
      "Training on 32429 people...\n"
     ]
    },
    {
     "name": "stderr",
     "output_type": "stream",
     "text": [
      "Training: 100%|██████████| 32429/32429 [16:05<00:00, 33.59it/s]\n"
     ]
    },
    {
     "name": "stdout",
     "output_type": "stream",
     "text": [
      "Training - Loss: 0.3722, Accuracy: 0.8694\n",
      "Testing on 8108 people...\n"
     ]
    },
    {
     "name": "stderr",
     "output_type": "stream",
     "text": [
      "Testing: 100%|██████████| 8108/8108 [01:31<00:00, 89.01it/s]\n"
     ]
    },
    {
     "name": "stdout",
     "output_type": "stream",
     "text": [
      "Testing - Accuracy: 0.9112\n",
      "\n",
      "=== Epoch 2/5 ===\n",
      "Training on 32429 people...\n"
     ]
    },
    {
     "name": "stderr",
     "output_type": "stream",
     "text": [
      "Training: 100%|██████████| 32429/32429 [15:00<00:00, 35.99it/s]\n"
     ]
    },
    {
     "name": "stdout",
     "output_type": "stream",
     "text": [
      "Training - Loss: 0.2027, Accuracy: 0.9202\n",
      "Testing on 8108 people...\n"
     ]
    },
    {
     "name": "stderr",
     "output_type": "stream",
     "text": [
      "Testing: 100%|██████████| 8108/8108 [01:25<00:00, 95.17it/s] \n"
     ]
    },
    {
     "name": "stdout",
     "output_type": "stream",
     "text": [
      "Testing - Accuracy: 0.9189\n",
      "\n",
      "=== Epoch 3/5 ===\n",
      "Training on 32429 people...\n"
     ]
    },
    {
     "name": "stderr",
     "output_type": "stream",
     "text": [
      "Training: 100%|██████████| 32429/32429 [14:57<00:00, 36.12it/s]\n"
     ]
    },
    {
     "name": "stdout",
     "output_type": "stream",
     "text": [
      "Training - Loss: 0.1748, Accuracy: 0.9265\n",
      "Testing on 8108 people...\n"
     ]
    },
    {
     "name": "stderr",
     "output_type": "stream",
     "text": [
      "Testing: 100%|██████████| 8108/8108 [01:25<00:00, 94.54it/s] \n"
     ]
    },
    {
     "name": "stdout",
     "output_type": "stream",
     "text": [
      "Testing - Accuracy: 0.9223\n",
      "\n",
      "=== Epoch 4/5 ===\n",
      "Training on 32429 people...\n"
     ]
    },
    {
     "name": "stderr",
     "output_type": "stream",
     "text": [
      "Training: 100%|██████████| 32429/32429 [14:57<00:00, 36.15it/s]\n"
     ]
    },
    {
     "name": "stdout",
     "output_type": "stream",
     "text": [
      "Training - Loss: 0.1647, Accuracy: 0.9290\n",
      "Testing on 8108 people...\n"
     ]
    },
    {
     "name": "stderr",
     "output_type": "stream",
     "text": [
      "Testing: 100%|██████████| 8108/8108 [01:25<00:00, 94.74it/s] \n"
     ]
    },
    {
     "name": "stdout",
     "output_type": "stream",
     "text": [
      "Testing - Accuracy: 0.9234\n",
      "\n",
      "=== Epoch 5/5 ===\n",
      "Training on 32429 people...\n"
     ]
    },
    {
     "name": "stderr",
     "output_type": "stream",
     "text": [
      "Training: 100%|██████████| 32429/32429 [14:57<00:00, 36.12it/s]\n"
     ]
    },
    {
     "name": "stdout",
     "output_type": "stream",
     "text": [
      "Training - Loss: 0.1713, Accuracy: 0.9301\n",
      "Testing on 8108 people...\n"
     ]
    },
    {
     "name": "stderr",
     "output_type": "stream",
     "text": [
      "Testing: 100%|██████████| 8108/8108 [01:25<00:00, 94.63it/s] \n"
     ]
    },
    {
     "name": "stdout",
     "output_type": "stream",
     "text": [
      "Testing - Accuracy: 0.9240\n"
     ]
    },
    {
     "data": {
      "image/png": "[encoded data removed]",
      "text/plain": [
       "<Figure size 1200x400 with 2 Axes>"
      ]
     },
     "metadata": {},
     "output_type": "display_data"
    },
    {
     "name": "stdout",
     "output_type": "stream",
     "text": [
      "\n",
      "Final training loss: 0.1713\n",
      "Final test accuracy: 0.9240\n"
     ]
    }
   ],
   "source": [
    "# Combined training and testing loop following OH pseudocode\n",
    "\"\"\"\n",
    "# Training loop pseudocode from OH:\n",
    "model.train()\n",
    "\n",
    "for epoch in range(10):\n",
    "    for people_index in range(500):\n",
    "        batch_data = train_data[people_index]\n",
    "        # (names, questions/keys, values)\n",
    "        random_person_1 = train_data[random.randint(0, 500)] # Random person 1\n",
    "        random_person_2 = train_data[random.randint(0, 500)] # Random person 2\n",
    "        \n",
    "        concatenate = batch_data + random_person_1 + random_person_2\n",
    "        # this is the db, (names, question/keys, values)\n",
    "        keys = [multihot(row[1], VOCAB) for row in concatenate]\n",
    "        keys # convert to tensor, stack, float\n",
    "        \n",
    "        values = [multihot(row[2], VOCAB) for row in concatenate]\n",
    "        values # convert to tensor, stack, float\n",
    "        \n",
    "        for relation_index in range(len(batch_data)): # loop through 20\n",
    "            # relation_index is 0-19\n",
    "            # the size of values is 0-60\n",
    "            question = keys[relation_index].clone()\n",
    "            output = model(question, keys, values)\n",
    "            \n",
    "            y = model.B(values.clone())\n",
    "            \n",
    "            soft = softmax(inner(y, output))\n",
    "            # unsqueeze\n",
    "            \n",
    "            target = relation_index\n",
    "            loss\n",
    "            \n",
    "            optimizer\n",
    "            loss.backward()\n",
    "            optimizer.step()\n",
    "\"\"\"\n",
    "\n",
    "def train_and_test_model(model, train_data, test_data, Y_matrix, value_to_idx, \n",
    "                        optimizer, criterion, num_epochs=5, test_every=1):\n",
    "    \"\"\"\n",
    "    Combined training and testing following OH pseudocode\n",
    "    \"\"\"\n",
    "    # Move Y_matrix to device once\n",
    "    Y_matrix = Y_matrix.to(device)\n",
    "    \n",
    "    # IMPORTANT: Use the correct vocabulary (reduced or original)\n",
    "    vocab_for_encoding = vocab_to_use if 'vocab_to_use' in globals() else VOCAB\n",
    "    print(f\"Using vocabulary with {vocab_for_encoding.num_words()} words for encoding\")\n",
    "    \n",
    "    train_losses = []\n",
    "    test_accuracies = []\n",
    "    \n",
    "    for epoch in range(num_epochs):\n",
    "        # Training phase\n",
    "        model.train()\n",
    "        epoch_loss = 0\n",
    "        epoch_correct = 0\n",
    "        epoch_total = 0\n",
    "        \n",
    "        print(f\"\\n=== Epoch {epoch+1}/{num_epochs} ===\")\n",
    "        \n",
    "        # UPDATED: Use all training data instead of limiting to 500\n",
    "        num_train_people = len(train_data)\n",
    "        print(f\"Training on {num_train_people} people...\")\n",
    "        \n",
    "        for people_index in tqdm(range(num_train_people), desc=\"Training\"):\n",
    "            batch_data = train_data[people_index]\n",
    "            \n",
    "            # Get two random persons as per OH pseudocode\n",
    "            if len(train_data) > 2:\n",
    "                random_idx1 = random.randint(0, len(train_data)-1)\n",
    "                random_idx2 = random.randint(0, len(train_data)-1)\n",
    "                random_person_1 = train_data[random_idx1]\n",
    "                random_person_2 = train_data[random_idx2]\n",
    "            else:\n",
    "                random_person_1 = batch_data\n",
    "                random_person_2 = batch_data\n",
    "            \n",
    "            # Concatenate current person with two random persons\n",
    "            concatenate = batch_data + random_person_1 + random_person_2\n",
    "            \n",
    "            # Convert to tensors using the CORRECT vocabulary\n",
    "            keys_list = [multihot(row[1], vocab_for_encoding) for row in concatenate]\n",
    "            values_list = [multihot(row[2], vocab_for_encoding) for row in concatenate]\n",
    "            \n",
    "            keys = torch.tensor(np.stack(keys_list), dtype=torch.float32).to(device)\n",
    "            values = torch.tensor(np.stack(values_list), dtype=torch.float32).to(device)\n",
    "            \n",
    "            # Process each relation for the current person\n",
    "            for relation_index in range(len(batch_data)):\n",
    "                # Use the key as the question\n",
    "                question = keys[relation_index].clone()\n",
    "                \n",
    "                # Forward pass\n",
    "                output = model(question, keys, values)\n",
    "                \n",
    "                # Embed all values in current batch\n",
    "                y = model.B(values.clone())\n",
    "                \n",
    "                # Compute scores\n",
    "                scores = torch.matmul(y, output)\n",
    "                scores = scores.unsqueeze(0)  # Add batch dimension\n",
    "                \n",
    "                # Target is the index in the concatenated list\n",
    "                target = torch.tensor([relation_index], dtype=torch.long, device=device)\n",
    "                \n",
    "                # Compute loss\n",
    "                loss = criterion(scores, target)\n",
    "                \n",
    "                # Backpropagation\n",
    "                optimizer.zero_grad()\n",
    "                loss.backward()\n",
    "                optimizer.step()\n",
    "                \n",
    "                # Track metrics\n",
    "                pred = scores.argmax(dim=1).item()\n",
    "                epoch_correct += (pred == relation_index)\n",
    "                epoch_total += 1\n",
    "                epoch_loss += loss.item()\n",
    "        \n",
    "        # Calculate training metrics\n",
    "        train_accuracy = epoch_correct / epoch_total if epoch_total > 0 else 0\n",
    "        avg_loss = epoch_loss / epoch_total if epoch_total > 0 else 0\n",
    "        train_losses.append(avg_loss)\n",
    "        \n",
    "        print(f\"Training - Loss: {avg_loss:.4f}, Accuracy: {train_accuracy:.4f}\")\n",
    "        \n",
    "        # Testing phase\n",
    "        if (epoch + 1) % test_every == 0:\n",
    "            model.eval()\n",
    "            test_correct = 0\n",
    "            test_total = 0\n",
    "            \n",
    "            # UPDATED: Use all test data\n",
    "            num_test_people = len(test_data)\n",
    "            print(f\"Testing on {num_test_people} people...\")\n",
    "            \n",
    "            with torch.no_grad():\n",
    "                for people_index in tqdm(range(num_test_people), desc=\"Testing\"):\n",
    "                    batch_data = test_data[people_index]\n",
    "                    \n",
    "                    # Same process as training but without gradients\n",
    "                    if len(test_data) > 2:\n",
    "                        random_idx1 = random.randint(0, len(test_data)-1)\n",
    "                        random_idx2 = random.randint(0, len(test_data)-1)\n",
    "                        random_person_1 = test_data[random_idx1]\n",
    "                        random_person_2 = test_data[random_idx2]\n",
    "                    else:\n",
    "                        random_person_1 = batch_data\n",
    "                        random_person_2 = batch_data\n",
    "                    \n",
    "                    concatenate = batch_data + random_person_1 + random_person_2\n",
    "                    \n",
    "                    # Use correct vocabulary for encoding\n",
    "                    keys_list = [multihot(row[1], vocab_for_encoding) for row in concatenate]\n",
    "                    values_list = [multihot(row[2], vocab_for_encoding) for row in concatenate]\n",
    "                    \n",
    "                    keys = torch.tensor(np.stack(keys_list), dtype=torch.float32).to(device)\n",
    "                    values = torch.tensor(np.stack(values_list), dtype=torch.float32).to(device)\n",
    "                    \n",
    "                    for relation_index in range(len(batch_data)):\n",
    "                        question = keys[relation_index].clone()\n",
    "                        output = model(question, keys, values)\n",
    "                        \n",
    "                        y = model.B(values.clone())\n",
    "                        scores = torch.matmul(y, output)\n",
    "                        \n",
    "                        pred = scores.argmax().item()\n",
    "                        test_correct += (pred == relation_index)\n",
    "                        test_total += 1\n",
    "            \n",
    "            test_accuracy = test_correct / test_total if test_total > 0 else 0\n",
    "            test_accuracies.append(test_accuracy)\n",
    "            print(f\"Testing - Accuracy: {test_accuracy:.4f}\")\n",
    "    \n",
    "    return train_losses, test_accuracies\n",
    "\n",
    "# Train and test the model - using more epochs with all data\n",
    "print(\"Training and testing the model with ALL available data...\")\n",
    "train_losses, test_accuracies = train_and_test_model(\n",
    "    real_model, train_data, test_data, Y_matrix, value_to_idx,\n",
    "    real_optimizer, real_criterion, num_epochs=5, test_every=1  # Reduced epochs since more data\n",
    ")\n",
    "\n",
    "# Plot results\n",
    "plt.figure(figsize=(12, 4))\n",
    "\n",
    "plt.subplot(1, 2, 1)\n",
    "plt.plot(train_losses, 'b-o')\n",
    "plt.title('Training Loss per Epoch')\n",
    "plt.xlabel('Epoch')\n",
    "plt.ylabel('Loss')\n",
    "plt.grid(True)\n",
    "\n",
    "plt.subplot(1, 2, 2)\n",
    "plt.plot(test_accuracies, 'r-o')\n",
    "plt.title('Test Accuracy per Epoch')\n",
    "plt.xlabel('Epoch')\n",
    "plt.ylabel('Accuracy')\n",
    "plt.grid(True)\n",
    "\n",
    "plt.tight_layout()\n",
    "plt.show()\n",
    "\n",
    "print(f\"\\nFinal training loss: {train_losses[-1]:.4f}\")\n",
    "print(f\"Final test accuracy: {test_accuracies[-1]:.4f}\")"
   ]
  },
  {
   "cell_type": "code",
   "execution_count": 313,
   "metadata": {},
   "outputs": [
    {
     "name": "stdout",
     "output_type": "stream",
     "text": [
      "Model saved to kvmemnet_final.pth\n"
     ]
    }
   ],
   "source": [
    "save_model(real_model, \"kvmemnet_final.pth\")"
   ]
  },
  {
   "cell_type": "markdown",
   "metadata": {
    "id": "lRCn-LZmMNCp"
   },
   "source": [
    "# Part E: Use the Model (5 points)\n",
    "\n",
    "Given a question in natural language, turn it into a bag of words and feed it into the model with a set of plausible keys and values. Apply the output feature embedding to the full set of values and pick the value with argmax. Return the actual text inside that value (not the bag of words or embedding).\n",
    "\n",
    "That is, given a natural language question, you are asked to create the $q$ and pick a relevant subset of $k$ and $v$. Run the $q$, $k$, and $v$ through the model and get an answer to the original question.\n",
    "\n",
    "For example a question might be \"When was Alexander Hamilton born?\" Depending on how you pre-proessed your data, you may need to extract the entity and the relation.\n",
    "\n",
    "Write a function that takes in the `question` below, the data, and the model, and outputs the text answer, e.g., \"11 january 1755\". You must use your ``KVMemNet``."
   ]
  },
  {
   "cell_type": "markdown",
   "metadata": {
    "id": "yiRYRlRhfFUG"
   },
   "source": [
    "**Suggestion:** To process a question you will probably want to find the entity and the relation. You may use packages such as [NLTK](https://www.nltk.org/) (already imported), [SpaCY](https://spacy.io/), [Stanza](https://stanfordnlp.github.io/stanza/), or other."
   ]
  },
  {
   "cell_type": "markdown",
   "metadata": {
    "id": "ofPVuNzWeIto"
   },
   "source": [
    "Change the question to test your implementation, but don't delete this cell."
   ]
  },
  {
   "cell_type": "code",
   "execution_count": 314,
   "metadata": {
    "id": "JQLNvGsfm3b3"
   },
   "outputs": [
    {
     "data": {
      "text/plain": [
       "'\\nquestion = \"George Washington Job\"\\n\\nconcatenate = DB[\"George Washington\"] + DB[\"Alex\"] + DB[\"Madison\"]\\nkeys = processing [row[1] for row in concatenate]\\nvalues = processing [row[2] for row in concatenate]\\n\\n...\\n...\\n\\npred_index = argmax(soft)\\npred = values[pred_index]\\n\\n'"
      ]
     },
     "execution_count": 314,
     "metadata": {},
     "output_type": "execute_result"
    }
   ],
   "source": [
    "question = \"When was alexander hamilton born?\"\n",
    "\n",
    "# Example from OH\n",
    "\"\"\"\n",
    "question = \"George Washington Job\"\n",
    "\n",
    "concatenate = DB[\"George Washington\"] + DB[\"Alex\"] + DB[\"Madison\"]\n",
    "keys = processing [row[1] for row in concatenate]\n",
    "values = processing [row[2] for row in concatenate]\n",
    "\n",
    "...\n",
    "...\n",
    "\n",
    "pred_index = argmax(soft)\n",
    "pred = values[pred_index]\n",
    "\n",
    "\"\"\"\n"
   ]
  },
  {
   "cell_type": "code",
   "execution_count": 316,
   "metadata": {
    "id": "KGSewc7jeaj1"
   },
   "outputs": [
    {
     "name": "stdout",
     "output_type": "stream",
     "text": [
      "Testing question answering...\n",
      "Using vocabulary with 29390 words\n",
      "Extracted entity: 'when'\n",
      "Question: When was alexander hamilton born?\n",
      "Answer: Person not found in database\n",
      "------------------------------------------------------------\n",
      "Using vocabulary with 29390 words\n",
      "Extracted entity: 'alexander hamilton'\n",
      "Predicted index: 7 (out of 42 items)\n",
      "Predicted value: fleming saskatchewan\n",
      "Selected from target person's relations\n",
      "Question: Alexander Hamilton birth\n",
      "Answer: fleming saskatchewan\n",
      "------------------------------------------------------------\n",
      "Using vocabulary with 29390 words\n",
      "Extracted entity: 'alexander hamilton'\n",
      "Predicted index: 10 (out of 34 items)\n",
      "Predicted value: saskatchewan liberal party\n",
      "Selected from target person's relations\n",
      "Question: Alexander Hamilton party\n",
      "Answer: saskatchewan liberal party\n",
      "------------------------------------------------------------\n",
      "Using vocabulary with 29390 words\n",
      "Extracted entity: 'alexander hamilton'\n",
      "Predicted index: 12 (out of 27 items)\n",
      "Predicted value: madeleine anne casey\n",
      "Selected from target person's relations\n",
      "Question: Alexander Hamilton spouse\n",
      "Answer: madeleine anne casey\n",
      "------------------------------------------------------------\n",
      "Using vocabulary with 29390 words\n",
      "Extracted entity: 'george washington'\n",
      "Predicted index: 2 (out of 39 items)\n",
      "Predicted value: governor of arkansas\n",
      "Selected from target person's relations\n",
      "Question: George Washington office\n",
      "Answer: governor of arkansas\n",
      "------------------------------------------------------------\n",
      "Using vocabulary with 29390 words\n",
      "Extracted entity: 'george washington'\n",
      "Predicted index: 8 (out of 43 items)\n",
      "Predicted value: union parish louisiana usa\n",
      "Selected from target person's relations\n",
      "Question: George Washington birth\n",
      "Answer: union parish louisiana usa\n",
      "------------------------------------------------------------\n"
     ]
    }
   ],
   "source": [
    "# Create your functions here\n",
    "\"\"\"\n",
    "OH Example:\n",
    "question = \"George Washington Job\"\n",
    "\n",
    "concatenate = DB[\"George Washington\"] + DB[\"Alex\"] + DB[\"Madison\"]\n",
    "keys = processing [row[1] for row in concatenate]\n",
    "values = processing [row[2] for row in concatenate]\n",
    "\n",
    "...\n",
    "...\n",
    "\n",
    "pred_index = argmax(soft)\n",
    "pred = values[pred_index]\n",
    "\"\"\"\n",
    "\n",
    "def answer_question(question, model, DB, vocab=None):\n",
    "    \"\"\"\n",
    "    Answer a question following the OH example pattern\n",
    "    \"\"\"\n",
    "    model.eval()\n",
    "    \n",
    "    # Use the correct vocabulary - this is the key fix!\n",
    "    if vocab is None:\n",
    "        vocab_for_encoding = vocab_to_use if 'vocab_to_use' in globals() else VOCAB\n",
    "    else:\n",
    "        vocab_for_encoding = vocab\n",
    "    \n",
    "    print(f\"Using vocabulary with {vocab_for_encoding.num_words()} words\")\n",
    "    \n",
    "    # Parse the question to extract entity\n",
    "    # Simple approach: assume first capitalized words are the entity\n",
    "    words = question.split()\n",
    "    entity_words = []\n",
    "    \n",
    "    for word in words:\n",
    "        if word[0].isupper():\n",
    "            entity_words.append(word.lower())\n",
    "        else:\n",
    "            break\n",
    "    \n",
    "    entity = ' '.join(entity_words)\n",
    "    print(f\"Extracted entity: '{entity}'\")\n",
    "    \n",
    "    # Find the person in DB\n",
    "    person_data = None\n",
    "    person_name = None\n",
    "    for name in DB.keys():\n",
    "        if entity in name.lower():\n",
    "            person_data = DB[name]\n",
    "            person_name = name\n",
    "            break\n",
    "    \n",
    "    if not person_data:\n",
    "        return \"Person not found in database\"\n",
    "    \n",
    "    # Create the data structure following OH pattern\n",
    "    # Current person's data - filter to common relations only\n",
    "    person_rows = []\n",
    "    for key, value in person_data.items():\n",
    "        if 'common_relations' in globals() and key in common_relations:\n",
    "            person_rows.append([person_name, f\"{person_name} {key}\", value])\n",
    "        elif 'common_relations' not in globals():\n",
    "            person_rows.append([person_name, f\"{person_name} {key}\", value])\n",
    "    \n",
    "    if not person_rows:\n",
    "        return \"No valid relations found for this person\"\n",
    "    \n",
    "    # Add two random other persons\n",
    "    other_names = [n for n in DB.keys() if n != person_name]\n",
    "    random.shuffle(other_names)\n",
    "    \n",
    "    concatenate = person_rows.copy()\n",
    "    \n",
    "    # Add data from two random people\n",
    "    added_people = 0\n",
    "    for other_name in other_names:\n",
    "        if added_people >= 2:\n",
    "            break\n",
    "        other_person = DB[other_name]\n",
    "        added_any = False\n",
    "        for key, value in other_person.items():\n",
    "            if 'common_relations' in globals() and key in common_relations:\n",
    "                concatenate.append([other_name, f\"{other_name} {key}\", value])\n",
    "                added_any = True\n",
    "            elif 'common_relations' not in globals():\n",
    "                concatenate.append([other_name, f\"{other_name} {key}\", value])\n",
    "                added_any = True\n",
    "        if added_any:\n",
    "            added_people += 1\n",
    "    \n",
    "    # Convert to tensors using correct vocabulary\n",
    "    keys_list = [multihot(row[1], vocab_for_encoding) for row in concatenate]\n",
    "    values_list = [multihot(row[2], vocab_for_encoding) for row in concatenate]\n",
    "    \n",
    "    keys = torch.tensor(np.stack(keys_list), dtype=torch.float32).to(device)\n",
    "    values = torch.tensor(np.stack(values_list), dtype=torch.float32).to(device)\n",
    "    \n",
    "    # Use the question as input\n",
    "    question_tensor = torch.tensor(multihot(question, vocab_for_encoding), dtype=torch.float32).to(device)\n",
    "    \n",
    "    with torch.no_grad():\n",
    "        # Forward pass\n",
    "        output = model(question_tensor, keys, values)\n",
    "        \n",
    "        # Embed values\n",
    "        y = model.B(values)\n",
    "        \n",
    "        # Compute scores\n",
    "        scores = torch.matmul(y, output)\n",
    "        \n",
    "        # Get prediction\n",
    "        pred_index = torch.argmax(scores).item()\n",
    "        \n",
    "        # Return the predicted value text\n",
    "        if pred_index < len(concatenate):\n",
    "            predicted_value = concatenate[pred_index][2]\n",
    "            print(f\"Predicted index: {pred_index} (out of {len(concatenate)} items)\")\n",
    "            print(f\"Predicted value: {predicted_value}\")\n",
    "            # Show what was selected\n",
    "            if pred_index < len(person_rows):\n",
    "                print(f\"Selected from target person's relations\")\n",
    "            else:\n",
    "                print(f\"Selected from other person's data\")\n",
    "            return predicted_value\n",
    "        else:\n",
    "            return \"Unknown\"\n",
    "\n",
    "# Test the function with various questions\n",
    "print(\"Testing question answering...\")\n",
    "\n",
    "# Use the correct vocabulary!\n",
    "vocab_to_pass = vocab_to_use if 'vocab_to_use' in globals() else VOCAB\n",
    "\n",
    "# Test with the provided question\n",
    "test_question = \"When was alexander hamilton born?\"\n",
    "answer = answer_question(test_question, real_model, DB, vocab_to_pass)\n",
    "print(f\"Question: {test_question}\")\n",
    "print(f\"Answer: {answer}\")\n",
    "print(\"-\" * 60)\n",
    "\n",
    "# Test with OH example style questions\n",
    "test_questions = [\n",
    "    \"Alexander Hamilton birth\",\n",
    "    \"Alexander Hamilton party\", \n",
    "    \"Alexander Hamilton spouse\",\n",
    "    \"George Washington office\",\n",
    "    \"George Washington birth\"\n",
    "]\n",
    "\n",
    "for q in test_questions:\n",
    "    answer = answer_question(q, real_model, DB, vocab_to_pass)\n",
    "    print(f\"Question: {q}\")\n",
    "    print(f\"Answer: {answer}\")\n",
    "    print(\"-\" * 60)"
   ]
  },
  {
   "cell_type": "markdown",
   "metadata": {
    "id": "N27-OtrzpT-u"
   },
   "source": [
    "# Part F: Reporting (15 points)\n",
    "\n",
    "Your report should answer the following three questions:\n",
    "\n",
    " **Q1:** What pre-processing of the data did you do? What motivated the design decisions and how did it impact training and any processing of natural language questions (Parts A and D)?\n",
    "\n",
    " Hint: This should help one understand any code modifications you made in Parts A and the first part of Part D. But you shouldn't use this to document your code (hopefully you commented your code with code comments and text cells above), but to justify your choices as well as to explain what worked and what didn't work.\n",
    "\n",
    " **Q2:** Report on your training on the real data (Part D). Show your loss curve and report on the testing accuracy. There are many ways to implement the training loop, particularly with the choice of keys and values. What decisions did you make when developing your training loop? Justify your decisions. How did they impact the training?\n",
    "\n",
    " Hint: This assignment doesn't grade you on how well your model learns---your solution will not be perfect. We focus more on how you worked through the process. This part of the report should show how well your solution worked, but also the intuition for why it works, and to document the things you tried that didn't work.\n",
    "\n",
    " **Q3:** Describe your technique on how you process natural language questions (Part E). Provide some examples of your technique answering questions correctly and some examples of your technique answering questions incorrectly. Discuss what causes the failure cases.\n",
    "\n",
    " Hint: You are not penalized for incorrectly answered questions---your model will not be perfect---we are looking for honest reflection. Preferably, show the example as code blocks running your model with notebook outputs saved.\n",
    "\n",
    " We have provided three prompts below. You can create as many text and code cells as necessary."
   ]
  },
  {
   "cell_type": "markdown",
   "metadata": {
    "id": "V8dovCuyuEvL"
   },
   "source": [
    "**Q1: Report on Data Pre-processing**"
   ]
  },
  {
   "cell_type": "markdown",
   "metadata": {
    "id": "2qhr3QwvuLBQ"
   },
   "source": [
    "Your text here."
   ]
  },
  {
   "cell_type": "markdown",
   "metadata": {
    "id": "3VBW1vSduN4U"
   },
   "source": [
    "**Q2: Report on Training and Testing**"
   ]
  },
  {
   "cell_type": "markdown",
   "metadata": {
    "id": "PT_9MtT2uQ7I"
   },
   "source": [
    "Your text here."
   ]
  },
  {
   "cell_type": "markdown",
   "metadata": {
    "id": "d6YimJ0KuScb"
   },
   "source": [
    "**Q3: Report on Model Use**"
   ]
  },
  {
   "cell_type": "markdown",
   "metadata": {
    "id": "j1majVIPuVEP"
   },
   "source": [
    "Your text here."
   ]
  }
 ],
 "metadata": {
  "accelerator": "GPU",
  "colab": {
   "machine_shape": "hm",
   "provenance": []
  },
  "gpuClass": "standard",
  "kernelspec": {
   "display_name": ".venv",
   "language": "python",
   "name": "python3"
  },
  "language_info": {
   "codemirror_mode": {
    "name": "ipython",
    "version": 3
   },
   "file_extension": ".py",
   "mimetype": "text/x-python",
   "name": "python",
   "nbconvert_exporter": "python",
   "pygments_lexer": "ipython3",
   "version": "3.13.5"
  }
 },
 "nbformat": 4,
 "nbformat_minor": 0
}
